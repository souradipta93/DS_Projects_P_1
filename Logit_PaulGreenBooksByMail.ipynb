{
  "nbformat": 4,
  "nbformat_minor": 0,
  "metadata": {
    "kernelspec": {
      "display_name": "Python 3",
      "language": "python",
      "name": "python3"
    },
    "language_info": {
      "codemirror_mode": {
        "name": "ipython",
        "version": 3
      },
      "file_extension": ".py",
      "mimetype": "text/x-python",
      "name": "python",
      "nbconvert_exporter": "python",
      "pygments_lexer": "ipython3",
      "version": "3.7.3"
    },
    "colab": {
      "name": "Logit-PaulGreenBooksByMail.ipynb",
      "provenance": [],
      "include_colab_link": true
    }
  },
  "cells": [
    {
      "cell_type": "markdown",
      "metadata": {
        "id": "view-in-github",
        "colab_type": "text"
      },
      "source": [
        "<a href=\"https://colab.research.google.com/github/souradipta93/DS_Projects_P_1/blob/master/Logit_PaulGreenBooksByMail.ipynb\" target=\"_parent\"><img src=\"https://colab.research.google.com/assets/colab-badge.svg\" alt=\"Open In Colab\"/></a>"
      ]
    },
    {
      "cell_type": "code",
      "metadata": {
        "id": "z_3p8Bz8OKNG"
      },
      "source": [
        "#Logistic Regression-Books By Mail-Paul Green"
      ],
      "execution_count": 1,
      "outputs": []
    },
    {
      "cell_type": "code",
      "metadata": {
        "id": "MgghJyj9OKNI"
      },
      "source": [
        "# Import the required libraries\n",
        "import pandas as pd\n",
        "import numpy as np\n",
        "import matplotlib.pyplot as plt\n",
        "import seaborn as sns"
      ],
      "execution_count": 2,
      "outputs": []
    },
    {
      "cell_type": "code",
      "metadata": {
        "id": "EOWaTGSOOKNJ"
      },
      "source": [
        "## Suppress warning messages\n",
        "import warnings\n",
        "warnings.filterwarnings(\"ignore\")"
      ],
      "execution_count": 3,
      "outputs": []
    },
    {
      "cell_type": "code",
      "metadata": {
        "colab": {
          "base_uri": "https://localhost:8080/",
          "height": 195
        },
        "id": "PUmGvZULOKNJ",
        "outputId": "4dbd625d-d96c-4984-c6ed-2a1120b0479a"
      },
      "source": [
        "mytraindata=pd.read_csv(\"PaulBooks1.csv\")\n",
        "mytraindata.head()"
      ],
      "execution_count": 4,
      "outputs": [
        {
          "output_type": "execute_result",
          "data": {
            "text/html": [
              "<div>\n",
              "<style scoped>\n",
              "    .dataframe tbody tr th:only-of-type {\n",
              "        vertical-align: middle;\n",
              "    }\n",
              "\n",
              "    .dataframe tbody tr th {\n",
              "        vertical-align: top;\n",
              "    }\n",
              "\n",
              "    .dataframe thead th {\n",
              "        text-align: right;\n",
              "    }\n",
              "</style>\n",
              "<table border=\"1\" class=\"dataframe\">\n",
              "  <thead>\n",
              "    <tr style=\"text-align: right;\">\n",
              "      <th></th>\n",
              "      <th>ID</th>\n",
              "      <th>Months</th>\n",
              "      <th>NoBought</th>\n",
              "      <th>Purchase</th>\n",
              "    </tr>\n",
              "  </thead>\n",
              "  <tbody>\n",
              "    <tr>\n",
              "      <th>0</th>\n",
              "      <td>1001</td>\n",
              "      <td>24</td>\n",
              "      <td>0</td>\n",
              "      <td>0</td>\n",
              "    </tr>\n",
              "    <tr>\n",
              "      <th>1</th>\n",
              "      <td>1002</td>\n",
              "      <td>16</td>\n",
              "      <td>0</td>\n",
              "      <td>0</td>\n",
              "    </tr>\n",
              "    <tr>\n",
              "      <th>2</th>\n",
              "      <td>1003</td>\n",
              "      <td>15</td>\n",
              "      <td>0</td>\n",
              "      <td>0</td>\n",
              "    </tr>\n",
              "    <tr>\n",
              "      <th>3</th>\n",
              "      <td>1004</td>\n",
              "      <td>22</td>\n",
              "      <td>0</td>\n",
              "      <td>0</td>\n",
              "    </tr>\n",
              "    <tr>\n",
              "      <th>4</th>\n",
              "      <td>1005</td>\n",
              "      <td>15</td>\n",
              "      <td>0</td>\n",
              "      <td>1</td>\n",
              "    </tr>\n",
              "  </tbody>\n",
              "</table>\n",
              "</div>"
            ],
            "text/plain": [
              "     ID  Months  NoBought  Purchase\n",
              "0  1001      24         0         0\n",
              "1  1002      16         0         0\n",
              "2  1003      15         0         0\n",
              "3  1004      22         0         0\n",
              "4  1005      15         0         1"
            ]
          },
          "metadata": {
            "tags": []
          },
          "execution_count": 4
        }
      ]
    },
    {
      "cell_type": "code",
      "metadata": {
        "id": "0s2urC2sOKNK"
      },
      "source": [
        "#Remove redundant columns\n",
        "mytraindata.drop(['ID'], axis=1, inplace=True)\n",
        " "
      ],
      "execution_count": 5,
      "outputs": []
    },
    {
      "cell_type": "code",
      "metadata": {
        "colab": {
          "base_uri": "https://localhost:8080/"
        },
        "id": "bHj_a1lvOKNK",
        "outputId": "b19c0eae-1b09-450c-d34e-e8c5103ae6d2"
      },
      "source": [
        "# Calculate baseline proportion of Y variable\n",
        "mytraindata['Purchase'].value_counts()"
      ],
      "execution_count": 6,
      "outputs": [
        {
          "output_type": "execute_result",
          "data": {
            "text/plain": [
              "0    917\n",
              "1     83\n",
              "Name: Purchase, dtype: int64"
            ]
          },
          "metadata": {
            "tags": []
          },
          "execution_count": 6
        }
      ]
    },
    {
      "cell_type": "markdown",
      "metadata": {
        "id": "zCFjz2xsOKNK"
      },
      "source": [
        "### Exploratory data analysis"
      ]
    },
    {
      "cell_type": "markdown",
      "metadata": {
        "id": "nTrsKCiYOKNL"
      },
      "source": [
        "### Model building"
      ]
    },
    {
      "cell_type": "code",
      "metadata": {
        "id": "Wvp_0oSvOKNL"
      },
      "source": [
        "#Define X and Y variables\n",
        "X = mytraindata.drop('Purchase', axis=1)\n",
        "Y = mytraindata[['Purchase']]"
      ],
      "execution_count": 7,
      "outputs": []
    },
    {
      "cell_type": "code",
      "metadata": {
        "colab": {
          "base_uri": "https://localhost:8080/"
        },
        "id": "OpUl88JtOKNM",
        "outputId": "5e28f0c5-f333-4df7-f859-802ce77d498a"
      },
      "source": [
        "#Build the logistic regression model\n",
        "import statsmodels.api as sm\n",
        "\n",
        "logit = sm.Logit(Y.astype(float), sm.add_constant(X.astype(float)))\n",
        "lg = logit.fit()"
      ],
      "execution_count": 8,
      "outputs": [
        {
          "output_type": "stream",
          "text": [
            "Optimization terminated successfully.\n",
            "         Current function value: 0.251466\n",
            "         Iterations 7\n"
          ],
          "name": "stdout"
        }
      ]
    },
    {
      "cell_type": "code",
      "metadata": {
        "colab": {
          "base_uri": "https://localhost:8080/"
        },
        "id": "5fSocX-zOKNM",
        "outputId": "f06cfbc3-e0e2-4752-a4f0-16154c75c9e3"
      },
      "source": [
        "#Summary of logistic regression\n",
        "from scipy import stats\n",
        "stats.chisqprob = lambda chisq, df: stats.chi2.sf(chisq, df)\n",
        "print(lg.summary())"
      ],
      "execution_count": 9,
      "outputs": [
        {
          "output_type": "stream",
          "text": [
            "                           Logit Regression Results                           \n",
            "==============================================================================\n",
            "Dep. Variable:               Purchase   No. Observations:                 1000\n",
            "Model:                          Logit   Df Residuals:                      997\n",
            "Method:                           MLE   Df Model:                            2\n",
            "Date:                Wed, 24 Mar 2021   Pseudo R-squ.:                  0.1209\n",
            "Time:                        17:12:43   Log-Likelihood:                -251.47\n",
            "converged:                       True   LL-Null:                       -286.04\n",
            "Covariance Type:            nonrobust   LLR p-value:                 9.698e-16\n",
            "==============================================================================\n",
            "                 coef    std err          z      P>|z|      [0.025      0.975]\n",
            "------------------------------------------------------------------------------\n",
            "const         -2.2256      0.239     -9.315      0.000      -2.694      -1.757\n",
            "Months        -0.0707      0.019     -3.677      0.000      -0.108      -0.033\n",
            "NoBought       0.9891      0.135      7.345      0.000       0.725       1.253\n",
            "==============================================================================\n"
          ],
          "name": "stdout"
        }
      ]
    },
    {
      "cell_type": "markdown",
      "metadata": {
        "id": "VBZIh65bOKNM"
      },
      "source": [
        "### Step1 - overall significance of the model"
      ]
    },
    {
      "cell_type": "code",
      "metadata": {
        "colab": {
          "base_uri": "https://localhost:8080/"
        },
        "id": "itGnWQczOKNN",
        "outputId": "daa840b0-8c08-4ed7-d041-03b5d6f5f904"
      },
      "source": [
        "#P-value of the overall model\n",
        "lg.llr_pvalue"
      ],
      "execution_count": 10,
      "outputs": [
        {
          "output_type": "execute_result",
          "data": {
            "text/plain": [
              "9.697631422882317e-16"
            ]
          },
          "metadata": {
            "tags": []
          },
          "execution_count": 10
        }
      ]
    },
    {
      "cell_type": "markdown",
      "metadata": {
        "id": "WuwTkpX-OKNN"
      },
      "source": [
        "### Step2 - Interpreting McFadden R2"
      ]
    },
    {
      "cell_type": "code",
      "metadata": {
        "colab": {
          "base_uri": "https://localhost:8080/"
        },
        "id": "83-we3o8OKNN",
        "outputId": "814fc6b0-42d3-4f24-e4eb-f1328255adfe"
      },
      "source": [
        "#Calculating gain\n",
        "Gain = lg.llf-lg.llnull\n",
        "G2Stat = Gain *2\n",
        "\n",
        "print(\"Gain =\",Gain, \"G2Stat =\",G2Stat)"
      ],
      "execution_count": 11,
      "outputs": [
        {
          "output_type": "stream",
          "text": [
            "Gain = 34.569479815420976 G2Stat = 69.13895963084195\n"
          ],
          "name": "stdout"
        }
      ]
    },
    {
      "cell_type": "code",
      "metadata": {
        "colab": {
          "base_uri": "https://localhost:8080/"
        },
        "id": "5olFSFDWOKNN",
        "outputId": "c10f4edf-d895-4380-c9a8-341aa4ad2338"
      },
      "source": [
        "#Calculating McFadden R2\n",
        "McFaddenR2 = 1-(lg.llf/lg.llnull)\n",
        "print(\"McFaddenR2 = \", McFaddenR2)"
      ],
      "execution_count": 12,
      "outputs": [
        {
          "output_type": "stream",
          "text": [
            "McFaddenR2 =  0.12085711265126431\n"
          ],
          "name": "stdout"
        }
      ]
    },
    {
      "cell_type": "markdown",
      "metadata": {
        "id": "PmrMuUnQOKNO"
      },
      "source": [
        "### Step3 - Individual coefficient significance"
      ]
    },
    {
      "cell_type": "code",
      "metadata": {
        "colab": {
          "base_uri": "https://localhost:8080/",
          "height": 136
        },
        "id": "-eaXPlk9OKNO",
        "outputId": "d8b17d27-ae49-4d47-fb43-d19640910e32"
      },
      "source": [
        "# Individual coef\n",
        "lgcoef = pd.DataFrame(lg.params, columns=['coef'])\n",
        "lgcoef['pval']=lg.pvalues\n",
        "pd.options.display.float_format = '{:.4f}'.format\n",
        "lgcoef"
      ],
      "execution_count": 13,
      "outputs": [
        {
          "output_type": "execute_result",
          "data": {
            "text/html": [
              "<div>\n",
              "<style scoped>\n",
              "    .dataframe tbody tr th:only-of-type {\n",
              "        vertical-align: middle;\n",
              "    }\n",
              "\n",
              "    .dataframe tbody tr th {\n",
              "        vertical-align: top;\n",
              "    }\n",
              "\n",
              "    .dataframe thead th {\n",
              "        text-align: right;\n",
              "    }\n",
              "</style>\n",
              "<table border=\"1\" class=\"dataframe\">\n",
              "  <thead>\n",
              "    <tr style=\"text-align: right;\">\n",
              "      <th></th>\n",
              "      <th>coef</th>\n",
              "      <th>pval</th>\n",
              "    </tr>\n",
              "  </thead>\n",
              "  <tbody>\n",
              "    <tr>\n",
              "      <th>const</th>\n",
              "      <td>-2.2256</td>\n",
              "      <td>0.0000</td>\n",
              "    </tr>\n",
              "    <tr>\n",
              "      <th>Months</th>\n",
              "      <td>-0.0707</td>\n",
              "      <td>0.0002</td>\n",
              "    </tr>\n",
              "    <tr>\n",
              "      <th>NoBought</th>\n",
              "      <td>0.9891</td>\n",
              "      <td>0.0000</td>\n",
              "    </tr>\n",
              "  </tbody>\n",
              "</table>\n",
              "</div>"
            ],
            "text/plain": [
              "            coef   pval\n",
              "const    -2.2256 0.0000\n",
              "Months   -0.0707 0.0002\n",
              "NoBought  0.9891 0.0000"
            ]
          },
          "metadata": {
            "tags": []
          },
          "execution_count": 13
        }
      ]
    },
    {
      "cell_type": "markdown",
      "metadata": {
        "id": "PmqGzwluOKNO"
      },
      "source": [
        "### Step4 - Calculate and interpret Odds Ratio & probability"
      ]
    },
    {
      "cell_type": "code",
      "metadata": {
        "colab": {
          "base_uri": "https://localhost:8080/",
          "height": 136
        },
        "id": "QB32Zwc-OKNP",
        "outputId": "2865e72d-dd06-411b-9ea4-16f5c85d2636"
      },
      "source": [
        "#Exponential of coef to get odds ratio\n",
        "lgcoef.loc[:, \"Odds_ratio\"] = np.exp(lgcoef.coef)\n",
        "\n",
        "#Probability from Odds ratio\n",
        "lgcoef['probability'] = lgcoef['Odds_ratio']/(1+lgcoef['Odds_ratio'])\n",
        "\n",
        "#Sort dataframe by decreasing Odds ratio\n",
        "lgcoef = lgcoef.sort_values(by=\"Odds_ratio\", ascending=False)\n",
        "lgcoef"
      ],
      "execution_count": 14,
      "outputs": [
        {
          "output_type": "execute_result",
          "data": {
            "text/html": [
              "<div>\n",
              "<style scoped>\n",
              "    .dataframe tbody tr th:only-of-type {\n",
              "        vertical-align: middle;\n",
              "    }\n",
              "\n",
              "    .dataframe tbody tr th {\n",
              "        vertical-align: top;\n",
              "    }\n",
              "\n",
              "    .dataframe thead th {\n",
              "        text-align: right;\n",
              "    }\n",
              "</style>\n",
              "<table border=\"1\" class=\"dataframe\">\n",
              "  <thead>\n",
              "    <tr style=\"text-align: right;\">\n",
              "      <th></th>\n",
              "      <th>coef</th>\n",
              "      <th>pval</th>\n",
              "      <th>Odds_ratio</th>\n",
              "      <th>probability</th>\n",
              "    </tr>\n",
              "  </thead>\n",
              "  <tbody>\n",
              "    <tr>\n",
              "      <th>NoBought</th>\n",
              "      <td>0.9891</td>\n",
              "      <td>0.0000</td>\n",
              "      <td>2.6887</td>\n",
              "      <td>0.7289</td>\n",
              "    </tr>\n",
              "    <tr>\n",
              "      <th>Months</th>\n",
              "      <td>-0.0707</td>\n",
              "      <td>0.0002</td>\n",
              "      <td>0.9317</td>\n",
              "      <td>0.4823</td>\n",
              "    </tr>\n",
              "    <tr>\n",
              "      <th>const</th>\n",
              "      <td>-2.2256</td>\n",
              "      <td>0.0000</td>\n",
              "      <td>0.1080</td>\n",
              "      <td>0.0975</td>\n",
              "    </tr>\n",
              "  </tbody>\n",
              "</table>\n",
              "</div>"
            ],
            "text/plain": [
              "            coef   pval  Odds_ratio  probability\n",
              "NoBought  0.9891 0.0000      2.6887       0.7289\n",
              "Months   -0.0707 0.0002      0.9317       0.4823\n",
              "const    -2.2256 0.0000      0.1080       0.0975"
            ]
          },
          "metadata": {
            "tags": []
          },
          "execution_count": 14
        }
      ]
    },
    {
      "cell_type": "markdown",
      "metadata": {
        "id": "cpC3_0UVOKNP"
      },
      "source": [
        "### Step5 - Make the prediction"
      ]
    },
    {
      "cell_type": "code",
      "metadata": {
        "colab": {
          "base_uri": "https://localhost:8080/"
        },
        "id": "xlO9oljNOKNP",
        "outputId": "66ec63a4-4c9d-40a1-8899-94a27ce0a4d7"
      },
      "source": [
        "#Compute class from predicted probability\n",
        "X=sm.add_constant(X)\n",
        "pred_prob=lg.predict(X)\n",
        "pred_class = (pred_prob>0.5).astype(np.int)\n",
        "pred_class"
      ],
      "execution_count": 15,
      "outputs": [
        {
          "output_type": "execute_result",
          "data": {
            "text/plain": [
              "0      0\n",
              "1      0\n",
              "2      0\n",
              "3      0\n",
              "4      0\n",
              "      ..\n",
              "995    0\n",
              "996    0\n",
              "997    0\n",
              "998    0\n",
              "999    0\n",
              "Length: 1000, dtype: int64"
            ]
          },
          "metadata": {
            "tags": []
          },
          "execution_count": 15
        }
      ]
    },
    {
      "cell_type": "markdown",
      "metadata": {
        "id": "t5TotT_bOKNP"
      },
      "source": [
        "### Step6 - Model performance measure"
      ]
    },
    {
      "cell_type": "code",
      "metadata": {
        "id": "q2ctbznEOKNQ"
      },
      "source": [
        "from sklearn.metrics import accuracy_score, confusion_matrix, recall_score, precision_score"
      ],
      "execution_count": 16,
      "outputs": []
    },
    {
      "cell_type": "code",
      "metadata": {
        "colab": {
          "base_uri": "https://localhost:8080/",
          "height": 279
        },
        "id": "jMM_x_F9OKNQ",
        "outputId": "c22af8fe-df05-4bee-8399-9001e1501495"
      },
      "source": [
        "#Confusion matrix\n",
        "confusion=confusion_matrix(Y, pred_class)\n",
        "sns.heatmap(confusion,annot=True, fmt=\".0f\",cmap=(\"Oranges\"),\n",
        "           xticklabels=[\"No Purchase\", \"Purchase\"],\n",
        "           yticklabels=[\"No Purchase\", \"Purchase\"])\n",
        "plt.ylabel(\"Actual\")\n",
        "plt.xlabel(\"Predicted\")\n",
        "plt.show()"
      ],
      "execution_count": 17,
      "outputs": [
        {
          "output_type": "display_data",
          "data": {
            "image/png": "[encoded data removed]",
            "text/plain": [
              "<Figure size 432x288 with 2 Axes>"
            ]
          },
          "metadata": {
            "tags": [],
            "needs_background": "light"
          }
        }
      ]
    },
    {
      "cell_type": "code",
      "metadata": {
        "colab": {
          "base_uri": "https://localhost:8080/"
        },
        "id": "sweyxIBdOKNQ",
        "outputId": "30235e31-8f3b-41a2-d79e-dcd6e7821b37"
      },
      "source": [
        "#Accuracy, recall, precision\n",
        "accuracy = round(accuracy_score(Y.astype(float), pred_class),2)\n",
        "recall = round(recall_score(Y.astype(float), pred_class),2)\n",
        "precision = round(precision_score(Y.astype(float), pred_class),2)\n",
        "\n",
        "print(\"accuracy: \",accuracy)\n",
        "print(\"recall: \",recall)\n",
        "print(\"precision: \",precision)"
      ],
      "execution_count": 18,
      "outputs": [
        {
          "output_type": "stream",
          "text": [
            "accuracy:  0.92\n",
            "recall:  0.1\n",
            "precision:  0.73\n"
          ],
          "name": "stdout"
        }
      ]
    },
    {
      "cell_type": "markdown",
      "metadata": {
        "id": "2kh8TAGzOKNQ"
      },
      "source": [
        "### Step7 - ROC curve and AUC"
      ]
    },
    {
      "cell_type": "code",
      "metadata": {
        "colab": {
          "base_uri": "https://localhost:8080/",
          "height": 295
        },
        "id": "NMFZrvUkOKNR",
        "outputId": "d2443126-f3d5-4004-faca-d66dba755d70"
      },
      "source": [
        "# ROC curve and AUC\n",
        "from sklearn.metrics import roc_auc_score\n",
        "from sklearn.metrics import roc_curve\n",
        "\n",
        "logit_roc_auc = roc_auc_score(Y.astype(float), pred_class)\n",
        "fpr, tpr, thresholds = roc_curve(Y.astype(float), pred_prob)\n",
        "plt.figure()\n",
        "plt.plot(fpr, tpr, label='Logistic Regression (area = %0.3f)' % logit_roc_auc)\n",
        "plt.plot([0, 1], [0, 1],'r--')\n",
        "plt.xlim([0.0, 1.0])\n",
        "plt.ylim([0.0, 1.05])\n",
        "plt.xlabel('False Positive Rate')\n",
        "plt.ylabel('True Positive Rate')\n",
        "plt.title('Receiver operating characteristic')\n",
        "plt.legend(loc=\"lower right\")\n",
        "plt.savefig('Log_ROC')\n",
        "plt.show()"
      ],
      "execution_count": 19,
      "outputs": [
        {
          "output_type": "display_data",
          "data": {
            "image/png": "[encoded data removed]",
            "text/plain": [
              "<Figure size 432x288 with 1 Axes>"
            ]
          },
          "metadata": {
            "tags": [],
            "needs_background": "light"
          }
        }
      ]
    },
    {
      "cell_type": "code",
      "metadata": {
        "scrolled": true,
        "colab": {
          "base_uri": "https://localhost:8080/",
          "height": 195
        },
        "id": "lNC8Yc_UOKNR",
        "outputId": "b68910b7-6112-421d-da75-e1890f68672f"
      },
      "source": [
        "# Read the csv file test data\n",
        "mytestdata=pd.read_csv(\"PaulBooks2.csv\")\n",
        "mytestdata.head() \n",
        "\n",
        " "
      ],
      "execution_count": 22,
      "outputs": [
        {
          "output_type": "execute_result",
          "data": {
            "text/html": [
              "<div>\n",
              "<style scoped>\n",
              "    .dataframe tbody tr th:only-of-type {\n",
              "        vertical-align: middle;\n",
              "    }\n",
              "\n",
              "    .dataframe tbody tr th {\n",
              "        vertical-align: top;\n",
              "    }\n",
              "\n",
              "    .dataframe thead th {\n",
              "        text-align: right;\n",
              "    }\n",
              "</style>\n",
              "<table border=\"1\" class=\"dataframe\">\n",
              "  <thead>\n",
              "    <tr style=\"text-align: right;\">\n",
              "      <th></th>\n",
              "      <th>ID</th>\n",
              "      <th>Months</th>\n",
              "      <th>NoBought</th>\n",
              "      <th>Purchase</th>\n",
              "    </tr>\n",
              "  </thead>\n",
              "  <tbody>\n",
              "    <tr>\n",
              "      <th>0</th>\n",
              "      <td>2001</td>\n",
              "      <td>30</td>\n",
              "      <td>0</td>\n",
              "      <td>0</td>\n",
              "    </tr>\n",
              "    <tr>\n",
              "      <th>1</th>\n",
              "      <td>2002</td>\n",
              "      <td>12</td>\n",
              "      <td>0</td>\n",
              "      <td>0</td>\n",
              "    </tr>\n",
              "    <tr>\n",
              "      <th>2</th>\n",
              "      <td>2003</td>\n",
              "      <td>18</td>\n",
              "      <td>0</td>\n",
              "      <td>0</td>\n",
              "    </tr>\n",
              "    <tr>\n",
              "      <th>3</th>\n",
              "      <td>2004</td>\n",
              "      <td>27</td>\n",
              "      <td>1</td>\n",
              "      <td>0</td>\n",
              "    </tr>\n",
              "    <tr>\n",
              "      <th>4</th>\n",
              "      <td>2005</td>\n",
              "      <td>4</td>\n",
              "      <td>1</td>\n",
              "      <td>0</td>\n",
              "    </tr>\n",
              "  </tbody>\n",
              "</table>\n",
              "</div>"
            ],
            "text/plain": [
              "     ID  Months  NoBought  Purchase\n",
              "0  2001      30         0         0\n",
              "1  2002      12         0         0\n",
              "2  2003      18         0         0\n",
              "3  2004      27         1         0\n",
              "4  2005       4         1         0"
            ]
          },
          "metadata": {
            "tags": []
          },
          "execution_count": 22
        }
      ]
    },
    {
      "cell_type": "code",
      "metadata": {
        "id": "KZg37E8XOKNR"
      },
      "source": [
        "#Remove redundant columns\n",
        "X2=mytestdata[['Months','NoBought']]\n",
        "X2\n",
        "Y2=mytestdata['Purchase']"
      ],
      "execution_count": 23,
      "outputs": []
    },
    {
      "cell_type": "code",
      "metadata": {
        "colab": {
          "base_uri": "https://localhost:8080/"
        },
        "id": "45k_P6QeOKNR",
        "outputId": "50c7ce40-8ee7-4e1a-ff2d-e58183f3f4c8"
      },
      "source": [
        "#Predict probability\n",
        "predtest_prob =lg.predict(sm.add_constant(X2))\n",
        "predtest_prob"
      ],
      "execution_count": 24,
      "outputs": [
        {
          "output_type": "execute_result",
          "data": {
            "text/plain": [
              "0     0.0128\n",
              "1     0.0442\n",
              "2     0.0294\n",
              "3     0.0413\n",
              "4     0.1795\n",
              "       ...  \n",
              "995   0.1332\n",
              "996   0.0541\n",
              "997   0.0385\n",
              "998   0.1596\n",
              "999   0.0506\n",
              "Length: 1000, dtype: float64"
            ]
          },
          "metadata": {
            "tags": []
          },
          "execution_count": 24
        }
      ]
    },
    {
      "cell_type": "code",
      "metadata": {
        "colab": {
          "base_uri": "https://localhost:8080/"
        },
        "id": "rtoADK3JOKNS",
        "outputId": "6f66924e-9854-40b6-adff-2cacb1db84ad"
      },
      "source": [
        "#Compute class from predicted probability\n",
        "predtest_class = (predtest_prob>0.5).astype(np.int)\n",
        "predtest_class"
      ],
      "execution_count": 25,
      "outputs": [
        {
          "output_type": "execute_result",
          "data": {
            "text/plain": [
              "0      0\n",
              "1      0\n",
              "2      0\n",
              "3      0\n",
              "4      0\n",
              "      ..\n",
              "995    0\n",
              "996    0\n",
              "997    0\n",
              "998    0\n",
              "999    0\n",
              "Length: 1000, dtype: int64"
            ]
          },
          "metadata": {
            "tags": []
          },
          "execution_count": 25
        }
      ]
    },
    {
      "cell_type": "code",
      "metadata": {
        "colab": {
          "base_uri": "https://localhost:8080/",
          "height": 279
        },
        "id": "NLf3mTjROKNS",
        "outputId": "f5c557a0-abc9-4839-e5b4-fb16bfdbee23"
      },
      "source": [
        "#Confusion matrix\n",
        "confusion=confusion_matrix(Y2, predtest_class)\n",
        "sns.heatmap(confusion,annot=True,fmt=\".0f\",cmap=(\"Oranges\"),\n",
        "           xticklabels=[\"No Purchase\",\"Purchase\"],\n",
        "           yticklabels=[\"No Purcahse\",\"Purchase\"])\n",
        "plt.ylabel(\"Actual\")\n",
        "plt.xlabel(\"Predicted\")\n",
        "plt.show()\n"
      ],
      "execution_count": 26,
      "outputs": [
        {
          "output_type": "display_data",
          "data": {
            "image/png": "[encoded data removed]",
            "text/plain": [
              "<Figure size 432x288 with 2 Axes>"
            ]
          },
          "metadata": {
            "tags": [],
            "needs_background": "light"
          }
        }
      ]
    },
    {
      "cell_type": "code",
      "metadata": {
        "id": "jdaGjjaHOKNS"
      },
      "source": [
        "#Changed Cutoff-Probability"
      ],
      "execution_count": 27,
      "outputs": []
    },
    {
      "cell_type": "code",
      "metadata": {
        "id": "UiuzBAiKOKNS"
      },
      "source": [
        "#Compute class from predicted probability(1.7)\n",
        "cutoff=1.0/7.0\n",
        "cutoff\n",
        "predtestchanged_class=(predtest_prob>cutoff).astype(np.int)"
      ],
      "execution_count": 28,
      "outputs": []
    },
    {
      "cell_type": "code",
      "metadata": {
        "colab": {
          "base_uri": "https://localhost:8080/",
          "height": 279
        },
        "id": "odMD7C3COKNS",
        "outputId": "c7d46362-9592-4430-ae28-9f78dc732d2d"
      },
      "source": [
        "#Confusion matrix\n",
        "confusion=confusion_matrix(Y2, predtestchanged_class)\n",
        "sns.heatmap(confusion,annot=True,fmt=\".0f\",annot_kws={\"size\":20},cmap=(\"Oranges\"),\n",
        "                                                      \n",
        "           xticklabels=[\"No Purchase\",\"Purchase\"],\n",
        "           yticklabels=[\"No Purchase\",\"Purchase\"])\n",
        "plt.ylabel(\"Actual\")\n",
        "plt.xlabel(\"Predicted\")\n",
        "plt.show()"
      ],
      "execution_count": 29,
      "outputs": [
        {
          "output_type": "display_data",
          "data": {
            "image/png": "[encoded data removed]",
            "text/plain": [
              "<Figure size 432x288 with 2 Axes>"
            ]
          },
          "metadata": {
            "tags": [],
            "needs_background": "light"
          }
        }
      ]
    },
    {
      "cell_type": "code",
      "metadata": {
        "id": "zbJ5xnviOKNT"
      },
      "source": [
        ""
      ],
      "execution_count": 29,
      "outputs": []
    }
  ]
}