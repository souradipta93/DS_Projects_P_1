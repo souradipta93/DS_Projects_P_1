{
  "nbformat": 4,
  "nbformat_minor": 0,
  "metadata": {
    "kernelspec": {
      "display_name": "Python 3",
      "language": "python",
      "name": "python3"
    },
    "language_info": {
      "codemirror_mode": {
        "name": "ipython",
        "version": 3
      },
      "file_extension": ".py",
      "mimetype": "text/x-python",
      "name": "python",
      "nbconvert_exporter": "python",
      "pygments_lexer": "ipython3",
      "version": "3.7.3"
    },
    "colab": {
      "name": "S 2_Logit-Simmons.ipynb",
      "provenance": [],
      "collapsed_sections": [],
      "include_colab_link": true
    }
  },
  "cells": [
    {
      "cell_type": "markdown",
      "metadata": {
        "id": "view-in-github",
        "colab_type": "text"
      },
      "source": [
        "<a href=\"https://colab.research.google.com/github/souradipta93/DS_Projects_P_1/blob/master/S_2_Logit_Simmons.ipynb\" target=\"_parent\"><img src=\"https://colab.research.google.com/assets/colab-badge.svg\" alt=\"Open In Colab\"/></a>"
      ]
    },
    {
      "cell_type": "code",
      "metadata": {
        "id": "oOZnze7VhgPZ"
      },
      "source": [
        "#Logistic Regression the Crucial Six Steps-Example:Logit-Simmons"
      ],
      "execution_count": 16,
      "outputs": []
    },
    {
      "cell_type": "code",
      "metadata": {
        "id": "r3pS71dwhgPd"
      },
      "source": [
        "#Importing the Core Libraries\n",
        "import pandas as pd\n",
        "import numpy as np\n",
        "import matplotlib.pyplot as plt\n",
        "import seaborn as sn\n"
      ],
      "execution_count": 17,
      "outputs": []
    },
    {
      "cell_type": "code",
      "metadata": {
        "id": "tpV3cFLbhgPe"
      },
      "source": [
        "#Suppress Warnings\n",
        "import warnings\n",
        "warnings.filterwarnings(\"ignore\")"
      ],
      "execution_count": 18,
      "outputs": []
    },
    {
      "cell_type": "code",
      "metadata": {
        "colab": {
          "base_uri": "https://localhost:8080/",
          "height": 195
        },
        "id": "20_EMOUhhgPf",
        "outputId": "fe1045fc-0125-4c00-ea2a-6d57c2f99b50"
      },
      "source": [
        "#Reading the File\n",
        "mydata=pd.read_csv(\"Logit-Simmons.csv\")\n",
        "mydata.head()"
      ],
      "execution_count": 19,
      "outputs": [
        {
          "output_type": "execute_result",
          "data": {
            "text/html": [
              "<div>\n",
              "<style scoped>\n",
              "    .dataframe tbody tr th:only-of-type {\n",
              "        vertical-align: middle;\n",
              "    }\n",
              "\n",
              "    .dataframe tbody tr th {\n",
              "        vertical-align: top;\n",
              "    }\n",
              "\n",
              "    .dataframe thead th {\n",
              "        text-align: right;\n",
              "    }\n",
              "</style>\n",
              "<table border=\"1\" class=\"dataframe\">\n",
              "  <thead>\n",
              "    <tr style=\"text-align: right;\">\n",
              "      <th></th>\n",
              "      <th>Customer</th>\n",
              "      <th>Spending</th>\n",
              "      <th>Card</th>\n",
              "      <th>Purchase</th>\n",
              "    </tr>\n",
              "  </thead>\n",
              "  <tbody>\n",
              "    <tr>\n",
              "      <th>0</th>\n",
              "      <td>1</td>\n",
              "      <td>2.2910</td>\n",
              "      <td>1</td>\n",
              "      <td>0</td>\n",
              "    </tr>\n",
              "    <tr>\n",
              "      <th>1</th>\n",
              "      <td>2</td>\n",
              "      <td>3.2150</td>\n",
              "      <td>1</td>\n",
              "      <td>0</td>\n",
              "    </tr>\n",
              "    <tr>\n",
              "      <th>2</th>\n",
              "      <td>3</td>\n",
              "      <td>2.1350</td>\n",
              "      <td>1</td>\n",
              "      <td>0</td>\n",
              "    </tr>\n",
              "    <tr>\n",
              "      <th>3</th>\n",
              "      <td>4</td>\n",
              "      <td>3.9240</td>\n",
              "      <td>0</td>\n",
              "      <td>0</td>\n",
              "    </tr>\n",
              "    <tr>\n",
              "      <th>4</th>\n",
              "      <td>5</td>\n",
              "      <td>2.5280</td>\n",
              "      <td>1</td>\n",
              "      <td>0</td>\n",
              "    </tr>\n",
              "  </tbody>\n",
              "</table>\n",
              "</div>"
            ],
            "text/plain": [
              "   Customer  Spending  Card  Purchase\n",
              "0         1    2.2910     1         0\n",
              "1         2    3.2150     1         0\n",
              "2         3    2.1350     1         0\n",
              "3         4    3.9240     0         0\n",
              "4         5    2.5280     1         0"
            ]
          },
          "metadata": {
            "tags": []
          },
          "execution_count": 19
        }
      ]
    },
    {
      "cell_type": "code",
      "metadata": {
        "id": "UuqtgRLNhgPg"
      },
      "source": [
        "#Defining Y and X\n",
        "Y=mydata.Purchase\n",
        "X=mydata.iloc[:,1:3]\n"
      ],
      "execution_count": 20,
      "outputs": []
    },
    {
      "cell_type": "code",
      "metadata": {
        "colab": {
          "base_uri": "https://localhost:8080/"
        },
        "id": "A22F9Qj2hgPg",
        "outputId": "171f1ecb-43ae-4d60-c419-890eb15f445c"
      },
      "source": [
        "#Explaratory Analysis\n",
        "MyCrossTab=pd.crosstab(mydata.Purchase,mydata.Card)\n",
        "MyCrossTab\n",
        "Table=pd.pivot_table(mydata,values=[\"Spending\"],index=[\"Purchase\",\"Card\"])\n",
        "print(MyCrossTab) \n",
        "print(\"   \")\n",
        "print(Table)"
      ],
      "execution_count": 21,
      "outputs": [
        {
          "output_type": "stream",
          "text": [
            "Card       0   1\n",
            "Purchase        \n",
            "0         36  24\n",
            "1         14  26\n",
            "   \n",
            "               Spending\n",
            "Purchase Card          \n",
            "0        0       3.2927\n",
            "         1       2.4461\n",
            "1        0       3.3674\n",
            "         1       4.1920\n"
          ],
          "name": "stdout"
        }
      ]
    },
    {
      "cell_type": "code",
      "metadata": {
        "colab": {
          "base_uri": "https://localhost:8080/",
          "height": 310
        },
        "id": "_9No049DhgPh",
        "outputId": "ea4ebe43-99d6-44a9-cb56-1b31794d3f6c"
      },
      "source": [
        "#Building the Model\n",
        "import statsmodels.api as sm\n",
        "logit = sm.Logit(Y.astype(float), sm.add_constant(X.astype(float)))\n",
        "lg=logit.fit() \n",
        "lg.summary()"
      ],
      "execution_count": 22,
      "outputs": [
        {
          "output_type": "stream",
          "text": [
            "Optimization terminated successfully.\n",
            "         Current function value: 0.604869\n",
            "         Iterations 5\n"
          ],
          "name": "stdout"
        },
        {
          "output_type": "execute_result",
          "data": {
            "text/html": [
              "<table class=\"simpletable\">\n",
              "<caption>Logit Regression Results</caption>\n",
              "<tr>\n",
              "  <th>Dep. Variable:</th>       <td>Purchase</td>     <th>  No. Observations:  </th>  <td>   100</td> \n",
              "</tr>\n",
              "<tr>\n",
              "  <th>Model:</th>                 <td>Logit</td>      <th>  Df Residuals:      </th>  <td>    97</td> \n",
              "</tr>\n",
              "<tr>\n",
              "  <th>Method:</th>                 <td>MLE</td>       <th>  Df Model:          </th>  <td>     2</td> \n",
              "</tr>\n",
              "<tr>\n",
              "  <th>Date:</th>            <td>Wed, 24 Mar 2021</td> <th>  Pseudo R-squ.:     </th>  <td>0.1012</td> \n",
              "</tr>\n",
              "<tr>\n",
              "  <th>Time:</th>                <td>14:49:57</td>     <th>  Log-Likelihood:    </th> <td> -60.487</td>\n",
              "</tr>\n",
              "<tr>\n",
              "  <th>converged:</th>             <td>True</td>       <th>  LL-Null:           </th> <td> -67.301</td>\n",
              "</tr>\n",
              "<tr>\n",
              "  <th>Covariance Type:</th>     <td>nonrobust</td>    <th>  LLR p-value:       </th> <td>0.001098</td>\n",
              "</tr>\n",
              "</table>\n",
              "<table class=\"simpletable\">\n",
              "<tr>\n",
              "      <td></td>        <th>coef</th>     <th>std err</th>      <th>z</th>      <th>P>|z|</th>  <th>[0.025</th>    <th>0.975]</th>  \n",
              "</tr>\n",
              "<tr>\n",
              "  <th>const</th>    <td>   -2.1464</td> <td>    0.577</td> <td>   -3.718</td> <td> 0.000</td> <td>   -3.278</td> <td>   -1.015</td>\n",
              "</tr>\n",
              "<tr>\n",
              "  <th>Spending</th> <td>    0.3416</td> <td>    0.129</td> <td>    2.655</td> <td> 0.008</td> <td>    0.089</td> <td>    0.594</td>\n",
              "</tr>\n",
              "<tr>\n",
              "  <th>Card</th>     <td>    1.0987</td> <td>    0.445</td> <td>    2.471</td> <td> 0.013</td> <td>    0.227</td> <td>    1.970</td>\n",
              "</tr>\n",
              "</table>"
            ],
            "text/plain": [
              "<class 'statsmodels.iolib.summary.Summary'>\n",
              "\"\"\"\n",
              "                           Logit Regression Results                           \n",
              "==============================================================================\n",
              "Dep. Variable:               Purchase   No. Observations:                  100\n",
              "Model:                          Logit   Df Residuals:                       97\n",
              "Method:                           MLE   Df Model:                            2\n",
              "Date:                Wed, 24 Mar 2021   Pseudo R-squ.:                  0.1012\n",
              "Time:                        14:49:57   Log-Likelihood:                -60.487\n",
              "converged:                       True   LL-Null:                       -67.301\n",
              "Covariance Type:            nonrobust   LLR p-value:                  0.001098\n",
              "==============================================================================\n",
              "                 coef    std err          z      P>|z|      [0.025      0.975]\n",
              "------------------------------------------------------------------------------\n",
              "const         -2.1464      0.577     -3.718      0.000      -3.278      -1.015\n",
              "Spending       0.3416      0.129      2.655      0.008       0.089       0.594\n",
              "Card           1.0987      0.445      2.471      0.013       0.227       1.970\n",
              "==============================================================================\n",
              "\"\"\""
            ]
          },
          "metadata": {
            "tags": []
          },
          "execution_count": 22
        }
      ]
    },
    {
      "cell_type": "code",
      "metadata": {
        "colab": {
          "base_uri": "https://localhost:8080/"
        },
        "id": "kwg29gRthgPi",
        "outputId": "338fa663-a087-43b8-f1fa-e451a6b7fbe0"
      },
      "source": [
        "#Step1: Overall Validity of the Model:Loglikelyhood\n",
        "print(\"LogLikelyhoodRatio=\",format(lg.llr_pvalue,\"0.6f\"))\n"
      ],
      "execution_count": 23,
      "outputs": [
        {
          "output_type": "stream",
          "text": [
            "LogLikelyhoodRatio= 0.001098\n"
          ],
          "name": "stdout"
        }
      ]
    },
    {
      "cell_type": "code",
      "metadata": {
        "colab": {
          "base_uri": "https://localhost:8080/"
        },
        "id": "2HXP2VW-hgPi",
        "outputId": "a971395f-1add-4db8-9d9a-427ef488aac3"
      },
      "source": [
        "#Step2\"McFadden R Square\n",
        "McFaddenR2 = 1-(lg.llf/lg.llnull)\n",
        "print(\"McFadden Rsq=\",format(McFaddenR2,\"0.6f\"))"
      ],
      "execution_count": 24,
      "outputs": [
        {
          "output_type": "stream",
          "text": [
            "McFadden Rsq= 0.101250\n"
          ],
          "name": "stdout"
        }
      ]
    },
    {
      "cell_type": "code",
      "metadata": {
        "colab": {
          "base_uri": "https://localhost:8080/",
          "height": 136
        },
        "id": "ahhbX7AQhgPj",
        "outputId": "6cd051af-61db-4966-ea28-44260f05c96f"
      },
      "source": [
        "# Step3:Test for Significance of Individual coef\n",
        "lgcoef = pd.DataFrame(lg.params, columns=['coef'])\n",
        "lgcoef['pval']=lg.pvalues\n",
        "pd.options.display.float_format = \"{:0.4f}\".format \n",
        "lgcoef"
      ],
      "execution_count": 25,
      "outputs": [
        {
          "output_type": "execute_result",
          "data": {
            "text/html": [
              "<div>\n",
              "<style scoped>\n",
              "    .dataframe tbody tr th:only-of-type {\n",
              "        vertical-align: middle;\n",
              "    }\n",
              "\n",
              "    .dataframe tbody tr th {\n",
              "        vertical-align: top;\n",
              "    }\n",
              "\n",
              "    .dataframe thead th {\n",
              "        text-align: right;\n",
              "    }\n",
              "</style>\n",
              "<table border=\"1\" class=\"dataframe\">\n",
              "  <thead>\n",
              "    <tr style=\"text-align: right;\">\n",
              "      <th></th>\n",
              "      <th>coef</th>\n",
              "      <th>pval</th>\n",
              "    </tr>\n",
              "  </thead>\n",
              "  <tbody>\n",
              "    <tr>\n",
              "      <th>const</th>\n",
              "      <td>-2.1464</td>\n",
              "      <td>0.0002</td>\n",
              "    </tr>\n",
              "    <tr>\n",
              "      <th>Spending</th>\n",
              "      <td>0.3416</td>\n",
              "      <td>0.0079</td>\n",
              "    </tr>\n",
              "    <tr>\n",
              "      <th>Card</th>\n",
              "      <td>1.0987</td>\n",
              "      <td>0.0135</td>\n",
              "    </tr>\n",
              "  </tbody>\n",
              "</table>\n",
              "</div>"
            ],
            "text/plain": [
              "            coef   pval\n",
              "const    -2.1464 0.0002\n",
              "Spending  0.3416 0.0079\n",
              "Card      1.0987 0.0135"
            ]
          },
          "metadata": {
            "tags": []
          },
          "execution_count": 25
        }
      ]
    },
    {
      "cell_type": "code",
      "metadata": {
        "colab": {
          "base_uri": "https://localhost:8080/",
          "height": 136
        },
        "id": "lTYvoSrChgPj",
        "outputId": "f48cd7d6-4185-4b16-a430-b3695fc7b247"
      },
      "source": [
        "#Step4: Odds and Probability \n",
        "#Exponential of coef to get odds ratio\n",
        "lgcoef.loc[:, \"Odds_ratio\"] = np.exp(lgcoef.coef)\n",
        "\n",
        "#Probability from Odds ratio\n",
        "lgcoef['probability'] = lgcoef['Odds_ratio']/(1+lgcoef['Odds_ratio'])\n",
        "\n",
        "#Sort dataframe by decreasing Odds ratio\n",
        "lgcoef = lgcoef.sort_values(by=\"Odds_ratio\", ascending=False)\n",
        "lgcoef"
      ],
      "execution_count": 26,
      "outputs": [
        {
          "output_type": "execute_result",
          "data": {
            "text/html": [
              "<div>\n",
              "<style scoped>\n",
              "    .dataframe tbody tr th:only-of-type {\n",
              "        vertical-align: middle;\n",
              "    }\n",
              "\n",
              "    .dataframe tbody tr th {\n",
              "        vertical-align: top;\n",
              "    }\n",
              "\n",
              "    .dataframe thead th {\n",
              "        text-align: right;\n",
              "    }\n",
              "</style>\n",
              "<table border=\"1\" class=\"dataframe\">\n",
              "  <thead>\n",
              "    <tr style=\"text-align: right;\">\n",
              "      <th></th>\n",
              "      <th>coef</th>\n",
              "      <th>pval</th>\n",
              "      <th>Odds_ratio</th>\n",
              "      <th>probability</th>\n",
              "    </tr>\n",
              "  </thead>\n",
              "  <tbody>\n",
              "    <tr>\n",
              "      <th>Card</th>\n",
              "      <td>1.0987</td>\n",
              "      <td>0.0135</td>\n",
              "      <td>3.0004</td>\n",
              "      <td>0.7500</td>\n",
              "    </tr>\n",
              "    <tr>\n",
              "      <th>Spending</th>\n",
              "      <td>0.3416</td>\n",
              "      <td>0.0079</td>\n",
              "      <td>1.4073</td>\n",
              "      <td>0.5846</td>\n",
              "    </tr>\n",
              "    <tr>\n",
              "      <th>const</th>\n",
              "      <td>-2.1464</td>\n",
              "      <td>0.0002</td>\n",
              "      <td>0.1169</td>\n",
              "      <td>0.1047</td>\n",
              "    </tr>\n",
              "  </tbody>\n",
              "</table>\n",
              "</div>"
            ],
            "text/plain": [
              "            coef   pval  Odds_ratio  probability\n",
              "Card      1.0987 0.0135      3.0004       0.7500\n",
              "Spending  0.3416 0.0079      1.4073       0.5846\n",
              "const    -2.1464 0.0002      0.1169       0.1047"
            ]
          },
          "metadata": {
            "tags": []
          },
          "execution_count": 26
        }
      ]
    },
    {
      "cell_type": "code",
      "metadata": {
        "colab": {
          "base_uri": "https://localhost:8080/"
        },
        "id": "HI7X0GEyhgPk",
        "outputId": "021981e8-b13a-4d2c-9c0c-43880e7b8d4f"
      },
      "source": [
        "#Step5: Creating the confusion matrix\n",
        "#Predict probability\n",
        "X = sm.add_constant(X)\n",
        "pred_prob = lg.predict(X)\n",
        "#Compute class from predicted probability\n",
        "pred_class = (pred_prob>0.5).astype(np.int)\n",
        "from sklearn.metrics import accuracy_score, confusion_matrix, recall_score, precision_score\n",
        "#Confusion matrix\n",
        "print(confusion_matrix(Y.astype(float), pred_class))\n",
        "print(\"  \")\n",
        "#Accuracy, recall, precision\n",
        "accuracy = round(accuracy_score(Y.astype(float), pred_class),2)\n",
        "recall = round(recall_score(Y.astype(float), pred_class),2)\n",
        "precision = round(precision_score(Y.astype(float), pred_class),2)\n",
        "print(\"accuracy: \",accuracy)\n",
        "print(\"recall: \",recall)\n",
        "print(\"precision: \",precision)"
      ],
      "execution_count": 27,
      "outputs": [
        {
          "output_type": "stream",
          "text": [
            "[[52  8]\n",
            " [20 20]]\n",
            "  \n",
            "accuracy:  0.72\n",
            "recall:  0.5\n",
            "precision:  0.71\n"
          ],
          "name": "stdout"
        }
      ]
    },
    {
      "cell_type": "code",
      "metadata": {
        "colab": {
          "base_uri": "https://localhost:8080/",
          "height": 279
        },
        "id": "lhIGqL8usGHM",
        "outputId": "d41c1c81-3ccc-483f-c123-e8a936eba3ed"
      },
      "source": [
        "#better Display of confusion matrix:\n",
        "confusion = confusion_matrix(Y.astype(float), pred_class)\n",
        "confusion = sn.heatmap(confusion, annot=True, cmap=(\"Oranges\"), annot_kws ={\"size\":20},\n",
        "                      xticklabels=[\"Not Purchased\",\"Purchased\"],\n",
        "                      yticklabels=[\"Not Purchased\",\"Purchased\"])\n",
        "plt.xlabel(\"Predicted\")\n",
        "plt.ylabel(\"Actual\")\n",
        "plt.show()"
      ],
      "execution_count": 34,
      "outputs": [
        {
          "output_type": "display_data",
          "data": {
            "image/png": "[encoded data removed]",
            "text/plain": [
              "<Figure size 432x288 with 2 Axes>"
            ]
          },
          "metadata": {
            "tags": [],
            "needs_background": "light"
          }
        }
      ]
    },
    {
      "cell_type": "code",
      "metadata": {
        "colab": {
          "base_uri": "https://localhost:8080/",
          "height": 295
        },
        "id": "gDt_H7I_hgPk",
        "outputId": "927ee3e0-79b1-4dd9-ce46-fac5ac942df1"
      },
      "source": [
        "#Step6:ROC Curve\n",
        "from sklearn.metrics import roc_auc_score\n",
        "from sklearn.metrics import roc_curve\n",
        "logit_roc_auc = roc_auc_score(Y.astype(float), pred_class)\n",
        "fpr, tpr, thresholds = roc_curve(Y.astype(float), pred_prob)\n",
        "plt.figure()\n",
        "plt.plot(fpr, tpr, label='Logistic Regression (area = %0.3f)' % logit_roc_auc)\n",
        "plt.plot([0, 1], [0, 1],'r--')\n",
        "plt.xlim([0.0, 1.0])\n",
        "plt.ylim([0.0, 1.05])\n",
        "plt.xlabel('False Positive Rate')\n",
        "plt.ylabel('True Positive Rate')\n",
        "plt.title('Receiver operating characteristic')\n",
        "plt.legend(loc=\"lower right\")\n",
        "plt.savefig('Log_ROC')\n",
        "plt.show()"
      ],
      "execution_count": 35,
      "outputs": [
        {
          "output_type": "display_data",
          "data": {
            "image/png": "[encoded data removed]",
            "text/plain": [
              "<Figure size 432x288 with 1 Axes>"
            ]
          },
          "metadata": {
            "tags": [],
            "needs_background": "light"
          }
        }
      ]
    },
    {
      "cell_type": "code",
      "metadata": {
        "id": "ynFhO0kHhgPl"
      },
      "source": [
        ""
      ],
      "execution_count": null,
      "outputs": []
    }
  ]
}